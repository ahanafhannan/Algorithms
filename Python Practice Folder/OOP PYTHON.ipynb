{
  "nbformat": 4,
  "nbformat_minor": 0,
  "metadata": {
    "colab": {
      "provenance": [],
      "collapsed_sections": [
        "CDGF21ZoIApS",
        "oWDtARefIk8b",
        "8kyt5RWnMs-8"
      ]
    },
    "kernelspec": {
      "name": "python3",
      "display_name": "Python 3"
    },
    "language_info": {
      "name": "python"
    }
  },
  "cells": [
    {
      "cell_type": "markdown",
      "source": [
        "# Object-Oriented Programming (OOP) in Python: Your Friendly Guide!\n",
        "Hey there! Ever heard of Object-Oriented Programming, or OOP for short? It might sound a bit fancy, but it's actually a super cool way to write code that's organized, reusable, and easier to understand. Think of it like building with LEGOs – each LEGO brick is an \"object\" with its own features and actions, and you can combine them to build something bigger and more complex.\n",
        "\n",
        "In this guide, we're going to explore OOP in Python, starting from the very basics and slowly building up to some more advanced stuff. We'll use a \"text-then-code\" style, just like a Jupyter Notebook, so you can see the concepts in action right away!"
      ],
      "metadata": {
        "id": "sy94y_XHH5G9"
      }
    },
    {
      "cell_type": "markdown",
      "source": [
        "# **🚀 Part 1: The Basics - Getting Started with Objects!**\n",
        "\n",
        "**What's a Class?**\n",
        "Imagine a blueprint or a template for creating something. That's what a class is! It defines the characteristics (what it has) and behaviors (what it does) that all objects created from this blueprint will share.\n",
        "\n",
        "**What's an Object?**\n",
        "An object (also called an instance) is a real, tangible thing created from that blueprint. If the class is the blueprint for a car, then your specific car (the red one, the blue one, etc.) is an object. Each car object has its own color, speed, and can perform actions like driving or honking.\n",
        "\n",
        "Let's see how we define a simple class in Python:"
      ],
      "metadata": {
        "id": "CDGF21ZoIApS"
      }
    },
    {
      "cell_type": "code",
      "source": [
        "# First, we define a class. Think of this as the blueprint for a 'Dog'.\n",
        "class Dog:\n",
        "    # This is a simple class definition.\n",
        "    # For now, we'll just use 'pass' because we don't want it to do anything yet.\n",
        "    pass\n"
      ],
      "metadata": {
        "id": "0fE6eoHgIRBr"
      },
      "execution_count": 14,
      "outputs": []
    },
    {
      "cell_type": "markdown",
      "source": [
        "Now that we have our Dog blueprint, let's create some actual dog objects from it!"
      ],
      "metadata": {
        "id": "VxeZorqZISFR"
      }
    },
    {
      "cell_type": "code",
      "source": [
        "# Now, let's create some 'Dog' objects (instances) from our blueprint.\n",
        "# 'my_dog' and 'your_dog' are now actual dog objects!\n",
        "my_dog = Dog()\n",
        "your_dog = Dog()\n",
        "\n",
        "# We can even check what type they are.\n",
        "print(f\"my_dog is of type: {type(my_dog)}\")\n",
        "print(f\"your_dog is of type: {type(your_dog)}\")\n",
        "\n",
        "# Are they the same object? No, they are separate instances!\n",
        "print(f\"Are my_dog and your_dog the same object? {my_dog is your_dog}\")"
      ],
      "metadata": {
        "colab": {
          "base_uri": "https://localhost:8080/"
        },
        "id": "xTGgv781IUJl",
        "outputId": "5cb3512c-aee7-48fd-e01c-c8f4d74c6bfb"
      },
      "execution_count": 15,
      "outputs": [
        {
          "output_type": "stream",
          "name": "stdout",
          "text": [
            "my_dog is of type: <class '__main__.Dog'>\n",
            "your_dog is of type: <class '__main__.Dog'>\n",
            "Are my_dog and your_dog the same object? False\n"
          ]
        }
      ]
    },
    {
      "cell_type": "markdown",
      "source": [
        "**Attributes: What an Object Has**\n",
        "\n",
        "Attributes are like the properties or characteristics of an object. For a Dog, attributes could be its name, breed, or age. You can think of them as variables that belong to an object.\n",
        "\n",
        "We can add attributes to our objects. The best way to do this is usually when we create the object, using a special method called __init__.\n",
        "\n",
        "Methods: What an Object Does\n",
        "Methods are like the actions or behaviors an object can perform. For a Dog, methods could be bark(), eat(), or wag_tail(). You can think of them as functions that belong to an object.\n",
        "\n",
        "Let's update our Dog class to include attributes and methods."
      ],
      "metadata": {
        "id": "atfmeOS8IYSp"
      }
    },
    {
      "cell_type": "code",
      "source": [
        "class Dog:\n",
        "    # The __init__ method is special! It's called automatically when you create a new Dog object.\n",
        "    # 'self' refers to the specific object being created.\n",
        "    # 'name' and 'breed' are parameters we pass when creating a Dog.\n",
        "    def __init__(self, name, breed):\n",
        "        # These lines create attributes (variables) for each Dog object.\n",
        "        # Each dog will have its own 'name' and 'breed'.\n",
        "        self.name = name\n",
        "        self.breed = breed\n",
        "        self.age = 0 # We can also set a default value for an attribute\n",
        "\n",
        "    # This is a method. It's a function that belongs to the Dog class.\n",
        "    # Again, 'self' refers to the specific Dog object calling this method.\n",
        "    def bark(self):\n",
        "        return f\"{self.name} says Woof! Woof!\"\n",
        "\n",
        "    # Another method to simulate eating\n",
        "    def eat(self, food):\n",
        "        return f\"{self.name} is happily eating {food}.\"\n",
        "\n",
        "    # Method to update the dog's age\n",
        "    def celebrate_birthday(self):\n",
        "        self.age += 1\n",
        "        return f\"Happy birthday, {self.name}! You are now {self.age} years old.\""
      ],
      "metadata": {
        "id": "nNK7-tMaId2o"
      },
      "execution_count": 16,
      "outputs": []
    },
    {
      "cell_type": "markdown",
      "source": [
        "Now, let's create some dogs and make them do things!"
      ],
      "metadata": {
        "id": "qgTeidpjIf5g"
      }
    },
    {
      "cell_type": "code",
      "source": [
        "# Create a new Dog object named 'Buddy' of breed 'Golden Retriever'.\n",
        "my_dog = Dog(\"Buddy\", \"Golden Retriever\")\n",
        "\n",
        "# Create another Dog object named 'Lucy' of breed 'Poodle'.\n",
        "your_dog = Dog(\"Lucy\", \"Poodle\")\n",
        "\n",
        "# Accessing attributes of my_dog\n",
        "print(f\"My dog's name is {my_dog.name} and its breed is {my_dog.breed}.\")\n",
        "print(f\"My dog's current age is {my_dog.age}.\")\n",
        "\n",
        "# Calling methods on my_dog\n",
        "print(my_dog.bark())\n",
        "print(my_dog.eat(\"kibble\"))\n",
        "print(my_dog.celebrate_birthday()) # Buddy turns 1!\n",
        "print(my_dog.celebrate_birthday()) # Buddy turns 2!\n",
        "print(f\"My dog's new age is {my_dog.age}.\")\n",
        "\n",
        "\n",
        "print(\"-\" * 30) # Just a separator\n",
        "\n",
        "# Accessing attributes of your_dog\n",
        "print(f\"Your dog's name is {your_dog.name} and its breed is {your_dog.breed}.\")\n",
        "print(f\"Your dog's current age is {your_dog.age}.\")\n",
        "\n",
        "# Calling methods on your_dog\n",
        "print(your_dog.bark())\n",
        "print(your_dog.eat(\"chicken\"))"
      ],
      "metadata": {
        "colab": {
          "base_uri": "https://localhost:8080/"
        },
        "id": "Y1Lo0lTKIhxd",
        "outputId": "02d1228c-03bf-47b9-dbce-7d76d5db8c9c"
      },
      "execution_count": 17,
      "outputs": [
        {
          "output_type": "stream",
          "name": "stdout",
          "text": [
            "My dog's name is Buddy and its breed is Golden Retriever.\n",
            "My dog's current age is 0.\n",
            "Buddy says Woof! Woof!\n",
            "Buddy is happily eating kibble.\n",
            "Happy birthday, Buddy! You are now 1 years old.\n",
            "Happy birthday, Buddy! You are now 2 years old.\n",
            "My dog's new age is 2.\n",
            "------------------------------\n",
            "Your dog's name is Lucy and its breed is Poodle.\n",
            "Your dog's current age is 0.\n",
            "Lucy says Woof! Woof!\n",
            "Lucy is happily eating chicken.\n"
          ]
        }
      ]
    },
    {
      "cell_type": "markdown",
      "source": [
        "# 🛠️ Part 2: Intermediate Concepts - Building More Complex Structures"
      ],
      "metadata": {
        "id": "oWDtARefIk8b"
      }
    },
    {
      "cell_type": "markdown",
      "source": [
        "Now that we've got the basics down, let's look at some more powerful OOP concepts that help us build even better code.\n",
        "\n",
        "**Inheritance:** Building on Existing Blueprints\n",
        "Inheritance is a fundamental OOP concept that allows a new class (called a child class or subclass) to inherit attributes and methods from an existing class (called a parent class or superclass).\n",
        "\n",
        "Think of it like family genetics: a child inherits traits from its parents. This is super useful because it promotes code reuse. Instead of writing the same code over and over, you can define it once in a parent class and then reuse it in many child classes.\n",
        "\n",
        "Let's create a more general Animal class, and then make Dog and Cat classes inherit from it."
      ],
      "metadata": {
        "id": "SsMh2QubIr61"
      }
    },
    {
      "cell_type": "code",
      "source": [
        "# Our general Animal blueprint (parent class)\n",
        "class Animal:\n",
        "    def __init__(self, name, species):\n",
        "        self.name = name\n",
        "        self.species = species\n",
        "\n",
        "    def make_sound(self):\n",
        "        # This method will be overridden by child classes\n",
        "        raise NotImplementedError(\"Subclass must implement abstract method\")\n",
        "\n",
        "    def introduce(self):\n",
        "        return f\"Hi, I'm {self.name}, a {self.species}.\"\n",
        "\n",
        "# Our Dog blueprint (child class) inherits from Animal\n",
        "class Dog(Animal):\n",
        "    def __init__(self, name, breed):\n",
        "        # Call the parent class's __init__ method to handle name and species\n",
        "        # We pass 'Dog' as the species here.\n",
        "        super().__init__(name, \"Dog\")\n",
        "        self.breed = breed # Add a new attribute specific to Dog\n",
        "\n",
        "    # Override the make_sound method from the Animal class\n",
        "    def make_sound(self):\n",
        "        return \"Woof! Woof!\"\n",
        "\n",
        "    def fetch(self, item):\n",
        "        return f\"{self.name} fetches the {item}!\"\n",
        "\n",
        "# Our Cat blueprint (child class) also inherits from Animal\n",
        "class Cat(Animal):\n",
        "    def __init__(self, name, color):\n",
        "        # Call the parent class's __init__ method\n",
        "        super().__init__(name, \"Cat\")\n",
        "        self.color = color # Add a new attribute specific to Cat\n",
        "\n",
        "    # Override the make_sound method\n",
        "    def make_sound(self):\n",
        "        return \"Meow!\"\n",
        "\n",
        "    def scratch_post(self):\n",
        "        return f\"{self.name} is sharpening its claws on the scratch post.\""
      ],
      "metadata": {
        "id": "7cWy8X3bIopg"
      },
      "execution_count": 18,
      "outputs": []
    },
    {
      "cell_type": "markdown",
      "source": [
        "Let's see our inherited classes in action!"
      ],
      "metadata": {
        "id": "_-s6FG2xIyJq"
      }
    },
    {
      "cell_type": "code",
      "source": [
        "# Create objects of our child classes\n",
        "my_dog = Dog(\"Max\", \"Labrador\")\n",
        "my_cat = Cat(\"Whiskers\", \"Orange\")\n",
        "\n",
        "# Both can use methods from the Animal parent class\n",
        "print(my_dog.introduce())\n",
        "print(my_cat.introduce())\n",
        "\n",
        "# Both can use their specific make_sound method (polymorphism in action!)\n",
        "print(my_dog.make_sound())\n",
        "print(my_cat.make_sound())\n",
        "\n",
        "# They also have their own unique methods\n",
        "print(my_dog.fetch(\"ball\"))\n",
        "print(my_cat.scratch_post())\n",
        "\n",
        "# We can access their specific attributes too\n",
        "print(f\"{my_dog.name} is a {my_dog.breed}.\")\n",
        "print(f\"{my_cat.name} is a {my_cat.color} cat.\")"
      ],
      "metadata": {
        "colab": {
          "base_uri": "https://localhost:8080/"
        },
        "id": "3hLtkptEIy_B",
        "outputId": "bd1636b3-1caf-489f-b0e7-90d6874591f4"
      },
      "execution_count": 19,
      "outputs": [
        {
          "output_type": "stream",
          "name": "stdout",
          "text": [
            "Hi, I'm Max, a Dog.\n",
            "Hi, I'm Whiskers, a Cat.\n",
            "Woof! Woof!\n",
            "Meow!\n",
            "Max fetches the ball!\n",
            "Whiskers is sharpening its claws on the scratch post.\n",
            "Max is a Labrador.\n",
            "Whiskers is a Orange cat.\n"
          ]
        }
      ]
    },
    {
      "cell_type": "markdown",
      "source": [
        "**Polymorphism: Many Forms**\n",
        "\n",
        "Polymorphism (which means \"many forms\") is a cool concept where objects of different classes can be treated as objects of a common type. It often comes into play with inheritance.\n",
        "\n",
        "The most common way you'll see polymorphism is through method overriding, where a child class provides its own specific implementation of a method that is already defined in its parent class (like our make_sound example above!).\n",
        "\n",
        "Let's demonstrate polymorphism more clearly."
      ],
      "metadata": {
        "id": "LKs-H604I1xh"
      }
    },
    {
      "cell_type": "code",
      "source": [
        "# Let's make a list of different animals\n",
        "animals = [\n",
        "    Dog(\"Buddy\", \"Golden Retriever\"),\n",
        "    Cat(\"Shadow\", \"Black\"),\n",
        "    Dog(\"Bella\", \"Beagle\"),\n",
        "    Cat(\"Mittens\", \"White\")\n",
        "]\n",
        "\n",
        "print(\"Let's hear all our animals make a sound:\")\n",
        "# We can loop through the list and call 'make_sound()' on each animal.\n",
        "# Even though they are different types (Dog, Cat), they all respond to 'make_sound()'.\n",
        "# Python figures out which specific 'make_sound' to call based on the object's actual type.\n",
        "for animal in animals:\n",
        "    print(f\"{animal.name} the {animal.species} says: {animal.make_sound()}\")"
      ],
      "metadata": {
        "colab": {
          "base_uri": "https://localhost:8080/"
        },
        "id": "OHuSXs01I5oZ",
        "outputId": "3f47068f-5810-4bc3-9be9-9170f8f1add2"
      },
      "execution_count": 20,
      "outputs": [
        {
          "output_type": "stream",
          "name": "stdout",
          "text": [
            "Let's hear all our animals make a sound:\n",
            "Buddy the Dog says: Woof! Woof!\n",
            "Shadow the Cat says: Meow!\n",
            "Bella the Dog says: Woof! Woof!\n",
            "Mittens the Cat says: Meow!\n"
          ]
        }
      ]
    },
    {
      "cell_type": "markdown",
      "source": [
        "**Encapsulation: Keeping Things Tidy and Safe**\n",
        "\n",
        "Encapsulation is about bundling data (attributes) and the methods that operate on that data within a single unit (the class). It also involves restricting direct access to some of an object's components, meaning you can't just change them from outside without using a specific method. This helps prevent accidental changes and keeps your code more robust.\n",
        "\n",
        "In Python, there isn't strict \"private\" access like in some other languages. However, we use conventions:\n",
        "\n",
        "Single underscore _name: This is a convention indicating that an attribute or method is intended for internal use within the class or its subclasses. It's a hint to other programmers: \"Don't mess with this directly unless you know what you're doing!\"\n",
        "\n",
        "Double underscore __name (name mangling): This makes an attribute or method harder to access directly from outside the class. Python \"mangles\" the name (e.g., _ClassName__name), making it less likely to clash with attributes in subclasses. It's not truly private, but it's a stronger hint.\n",
        "\n",
        "Let's see an example:"
      ],
      "metadata": {
        "id": "DAiuFosEI6lb"
      }
    },
    {
      "cell_type": "code",
      "source": [
        "class BankAccount:\n",
        "    def __init__(self, account_holder, initial_balance=0):\n",
        "        self.account_holder = account_holder\n",
        "        # Using a double underscore for balance to indicate it's 'private'\n",
        "        # This makes it harder to accidentally modify from outside.\n",
        "        self.__balance = initial_balance\n",
        "        # A 'protected' attribute (by convention)\n",
        "        self._account_number = \"ACC\" + str(hash(account_holder))[:5] # A simple way to generate an account number\n",
        "\n",
        "    def deposit(self, amount):\n",
        "        if amount > 0:\n",
        "            self.__balance += amount\n",
        "            print(f\"Deposited ${amount}. New balance: ${self.__balance}\")\n",
        "        else:\n",
        "            print(\"Deposit amount must be positive.\")\n",
        "\n",
        "    def withdraw(self, amount):\n",
        "        if 0 < amount <= self.__balance:\n",
        "            self.__balance -= amount\n",
        "            print(f\"Withdrew ${amount}. New balance: ${self.__balance}\")\n",
        "        else:\n",
        "            print(\"Invalid withdrawal amount or insufficient funds.\")\n",
        "\n",
        "    def get_balance(self):\n",
        "        # This is the 'public' way to access the balance\n",
        "        return self.__balance\n",
        "\n",
        "    def get_account_info(self):\n",
        "        return f\"Account Holder: {self.account_holder}, Account Number: {self._account_number}\""
      ],
      "metadata": {
        "id": "fkFLb7DoI-tG"
      },
      "execution_count": 21,
      "outputs": []
    },
    {
      "cell_type": "markdown",
      "source": [
        "Now, let's interact with our BankAccount object. Notice how we use methods to change the balance, rather than directly accessing __balance."
      ],
      "metadata": {
        "id": "43bOZ70RJAoz"
      }
    },
    {
      "cell_type": "code",
      "source": [
        "my_account = BankAccount(\"Alice Smith\", 1000)\n",
        "\n",
        "print(my_account.get_account_info())\n",
        "print(f\"Initial balance: ${my_account.get_balance()}\")\n",
        "\n",
        "my_account.deposit(500)\n",
        "my_account.withdraw(200)\n",
        "my_account.withdraw(1500) # This should fail due to insufficient funds\n",
        "my_account.deposit(-100) # This should fail as amount is not positive\n",
        "\n",
        "print(f\"Final balance: ${my_account.get_balance()}\")\n",
        "\n",
        "# What happens if we try to access __balance directly?\n",
        "# print(my_account.__balance) # This will likely raise an AttributeError!\n",
        "# Python 'mangles' the name, so it's not directly accessible.\n",
        "# You could technically access it via my_account._BankAccount__balance, but that defeats the purpose!\n",
        "\n",
        "# Accessing the 'protected' attribute (by convention)\n",
        "print(f\"Account number (intended for internal use): {my_account._account_number}\")"
      ],
      "metadata": {
        "colab": {
          "base_uri": "https://localhost:8080/"
        },
        "id": "129e7ZJ0JBTN",
        "outputId": "17370570-2cd3-46d2-af0f-242b662ce423"
      },
      "execution_count": 22,
      "outputs": [
        {
          "output_type": "stream",
          "name": "stdout",
          "text": [
            "Account Holder: Alice Smith, Account Number: ACC45497\n",
            "Initial balance: $1000\n",
            "Deposited $500. New balance: $1500\n",
            "Withdrew $200. New balance: $1300\n",
            "Invalid withdrawal amount or insufficient funds.\n",
            "Deposit amount must be positive.\n",
            "Final balance: $1300\n",
            "Account number (intended for internal use): ACC45497\n"
          ]
        }
      ]
    },
    {
      "cell_type": "markdown",
      "source": [
        "**Class Variables vs. Instance Variables**\n",
        "\n",
        "\n",
        "\n",
        "This is an important distinction!\n",
        "\n",
        "Instance Variables: These belong to each individual object (instance) of a class. Each object has its own copy of these variables. Our name, breed, age in Dog were instance variables.\n",
        "\n",
        "Class Variables: These belong to the class itself, not to any specific object. All objects of that class share the same class variable. If you change a class variable, that change is reflected across all instances (unless an instance creates its own instance variable with the same name, which then \"shadows\" the class variable for that instance).\n",
        "\n",
        "Class variables are often used for constants or for tracking data common to all instances."
      ],
      "metadata": {
        "id": "5_BmBa9OJH7E"
      }
    },
    {
      "cell_type": "code",
      "source": [
        "class Car:\n",
        "    # This is a class variable. All Car objects will share this.\n",
        "    # It represents the total number of cars created.\n",
        "    total_cars_created = 0\n",
        "    # Another class variable for a constant value\n",
        "    WHEELS = 4\n",
        "\n",
        "    def __init__(self, make, model):\n",
        "        self.make = make       # Instance variable\n",
        "        self.model = model     # Instance variable\n",
        "        Car.total_cars_created += 1 # Increment the class variable each time a new car is made\n",
        "\n",
        "    def display_info(self):\n",
        "        return f\"This is a {self.make} {self.model} with {self.WHEELS} wheels.\""
      ],
      "metadata": {
        "id": "XWu2FcXpJOlB"
      },
      "execution_count": 23,
      "outputs": []
    },
    {
      "cell_type": "markdown",
      "source": [
        "Let's see the difference in action:"
      ],
      "metadata": {
        "id": "djB4tq_EJPWt"
      }
    },
    {
      "cell_type": "code",
      "source": [
        "car1 = Car(\"Toyota\", \"Camry\")\n",
        "car2 = Car(\"Honda\", \"Civic\")\n",
        "car3 = Car(\"Ford\", \"Mustang\")\n",
        "\n",
        "print(car1.display_info())\n",
        "print(car2.display_info())\n",
        "\n",
        "# Accessing the class variable through the class\n",
        "print(f\"Total cars created (via class): {Car.total_cars_created}\")\n",
        "\n",
        "# Accessing the class variable through an instance (it still refers to the class variable)\n",
        "print(f\"Total cars created (via car1 instance): {car1.total_cars_created}\")\n",
        "\n",
        "# What if we try to change it via an instance?\n",
        "car1.total_cars_created = 100 # This creates a *new instance variable* named 'total_cars_created' for car1,\n",
        "                              # it does NOT change the class variable.\n",
        "print(f\"Car1's 'total_cars_created' (now an instance var): {car1.total_cars_created}\")\n",
        "print(f\"Total cars created (via class, still correct): {Car.total_cars_created}\")\n",
        "\n",
        "# To truly modify the class variable, you must do it via the class itself:\n",
        "Car.total_cars_created = 500\n",
        "print(f\"Total cars created (after direct class modification): {Car.total_cars_created}\")"
      ],
      "metadata": {
        "colab": {
          "base_uri": "https://localhost:8080/"
        },
        "id": "zjnXWRQUJQW0",
        "outputId": "682da4a5-38f3-42cb-d5b6-6b2b2eeea3f0"
      },
      "execution_count": 24,
      "outputs": [
        {
          "output_type": "stream",
          "name": "stdout",
          "text": [
            "This is a Toyota Camry with 4 wheels.\n",
            "This is a Honda Civic with 4 wheels.\n",
            "Total cars created (via class): 3\n",
            "Total cars created (via car1 instance): 3\n",
            "Car1's 'total_cars_created' (now an instance var): 100\n",
            "Total cars created (via class, still correct): 3\n",
            "Total cars created (after direct class modification): 500\n"
          ]
        }
      ]
    },
    {
      "cell_type": "markdown",
      "source": [
        "**Class Methods and Static Methods**\n",
        "\n",
        "Besides regular instance methods, Python offers class methods and static methods.\n",
        "\n",
        "Instance Methods: (Our bark(), deposit(), etc.) They operate on a specific instance of the class and automatically receive self (the instance) as their first argument.\n",
        "\n",
        "Class Methods: They operate on the class itself, not a specific instance. They receive cls (the class) as their first argument. You define them using the @classmethod decorator. They are often used as alternative constructors or to access/modify class variables.\n",
        "\n",
        "Static Methods: They are just like regular functions, but they are defined inside a class. They don't receive self or cls automatically. You define them using the @staticmethod decorator. They are often used for utility functions that logically belong to the class but don't need access to instance or class data."
      ],
      "metadata": {
        "id": "aKcAehw7JSvI"
      }
    },
    {
      "cell_type": "code",
      "source": [
        "class MathOperations:\n",
        "    PI = 3.14159 # A class variable (constant)\n",
        "\n",
        "    def __init__(self, value):\n",
        "        self.value = value # An instance variable\n",
        "\n",
        "    # Instance method: operates on an instance's data\n",
        "    def add_to_value(self, num):\n",
        "        return self.value + num\n",
        "\n",
        "    @classmethod\n",
        "    def get_pi(cls):\n",
        "        # Class methods receive 'cls' (the class itself) as the first argument.\n",
        "        # They can access class variables.\n",
        "        return cls.PI\n",
        "\n",
        "    @classmethod\n",
        "    def create_from_string(cls, num_str):\n",
        "        # A class method as an alternative constructor.\n",
        "        # It takes a string and creates an instance from it.\n",
        "        return cls(float(num_str)) # 'cls(value)' is like calling MathOperations(value)\n",
        "\n",
        "    @staticmethod\n",
        "    def circle_area(radius):\n",
        "        # Static methods don't receive 'self' or 'cls'.\n",
        "        # They are like regular functions but are logically grouped with the class.\n",
        "        # They can't directly access instance or class variables unless passed as arguments.\n",
        "        return MathOperations.PI * (radius ** 2) # Can access PI via the class name"
      ],
      "metadata": {
        "id": "zL1Flb4dJV2o"
      },
      "execution_count": 25,
      "outputs": []
    },
    {
      "cell_type": "markdown",
      "source": [
        "Let's see these different methods in action:"
      ],
      "metadata": {
        "id": "-E_74iX8JXkM"
      }
    },
    {
      "cell_type": "code",
      "source": [
        "# Create an instance of MathOperations\n",
        "calc = MathOperations(10)\n",
        "\n",
        "# Use the instance method\n",
        "print(f\"Instance method result: {calc.add_to_value(5)}\")\n",
        "\n",
        "# Use the class method via the instance (it still operates on the class)\n",
        "print(f\"Class method result (via instance): {calc.get_pi()}\")\n",
        "\n",
        "# Use the class method via the class itself (more common)\n",
        "print(f\"Class method result (via class): {MathOperations.get_pi()}\")\n",
        "\n",
        "# Use the class method as an alternative constructor\n",
        "calc_from_str = MathOperations.create_from_string(\"25.5\")\n",
        "print(f\"New instance created from string, its value: {calc_from_str.value}\")\n",
        "\n",
        "# Use the static method via the instance\n",
        "print(f\"Static method result (via instance): {calc.circle_area(3)}\")\n",
        "\n",
        "# Use the static method via the class itself (more common)\n",
        "print(f\"Static method result (via class): {MathOperations.circle_area(5)}\")"
      ],
      "metadata": {
        "colab": {
          "base_uri": "https://localhost:8080/"
        },
        "id": "2KagSjlpJYTn",
        "outputId": "73329d58-73ac-46ff-d260-e16e561b6f18"
      },
      "execution_count": 26,
      "outputs": [
        {
          "output_type": "stream",
          "name": "stdout",
          "text": [
            "Instance method result: 15\n",
            "Class method result (via instance): 3.14159\n",
            "Class method result (via class): 3.14159\n",
            "New instance created from string, its value: 25.5\n",
            "Static method result (via instance): 28.27431\n",
            "Static method result (via class): 78.53975\n"
          ]
        }
      ]
    },
    {
      "cell_type": "markdown",
      "source": [
        "# 🧙 Part 3: Advanced Concepts - Diving Deeper"
      ],
      "metadata": {
        "id": "nsKgNM7gJnar"
      }
    },
    {
      "cell_type": "markdown",
      "source": [
        "You've covered a lot! Now let's look at some more advanced OOP features in Python that can make your code even more powerful and flexible.\n",
        "\n",
        "Abstract Classes and Methods: Enforcing Structure\n",
        "Sometimes, you want to define a template for a class but don't want to allow direct creation of objects from that template. You want to force its child classes to implement certain methods. This is where abstract classes and abstract methods come in.\n",
        "\n",
        "An abstract class cannot be instantiated (you can't create an object directly from it).\n",
        "\n",
        "An abstract method is a method declared in an abstract class but has no implementation (no code inside it). Child classes must provide an implementation for all abstract methods.\n",
        "\n",
        "Python's abc (Abstract Base Classes) module helps us achieve this."
      ],
      "metadata": {
        "id": "tNQMu_VsJqv-"
      }
    },
    {
      "cell_type": "code",
      "source": [
        "from abc import ABC, abstractmethod\n",
        "\n",
        "# Animal is now an abstract base class because it inherits from ABC\n",
        "class Animal(ABC):\n",
        "    def __init__(self, name):\n",
        "        self.name = name\n",
        "\n",
        "    # This is an abstract method. Any class inheriting from Animal MUST implement this.\n",
        "    @abstractmethod\n",
        "    def make_sound(self):\n",
        "        pass # No implementation here, just a placeholder\n",
        "\n",
        "    def introduce(self):\n",
        "        return f\"Hello, I'm {self.name}.\"\n",
        "\n",
        "# Dog class, inheriting from the abstract Animal class\n",
        "class Dog(Animal):\n",
        "    def __init__(self, name, breed):\n",
        "        super().__init__(name)\n",
        "        self.breed = breed\n",
        "\n",
        "    # We MUST implement make_sound because it's abstract in Animal\n",
        "    def make_sound(self):\n",
        "        return \"Woof!\"\n",
        "\n",
        "# Cat class, also inheriting from Animal\n",
        "class Cat(Animal):\n",
        "    def __init__(self, name, color):\n",
        "        super().__init__(name)\n",
        "        self.color = color\n",
        "\n",
        "    # We MUST implement make_sound for Cat too\n",
        "    def make_sound(self):\n",
        "        return \"Meow!\"\n",
        "\n",
        "# This class will cause an error if we try to instantiate it,\n",
        "# because it doesn't implement 'make_sound'.\n",
        "class Bird(Animal):\n",
        "    def __init__(self, name):\n",
        "        super().__init__(name)\n",
        "        # Oops, forgot to implement make_sound!\n",
        "        pass"
      ],
      "metadata": {
        "id": "TEsmt3gUJpMs"
      },
      "execution_count": 27,
      "outputs": []
    },
    {
      "cell_type": "markdown",
      "source": [
        "Let's test it out:"
      ],
      "metadata": {
        "id": "RZdrsCLDJuhS"
      }
    },
    {
      "cell_type": "code",
      "source": [
        "# We can create instances of Dog and Cat because they implemented make_sound\n",
        "my_dog = Dog(\"Rex\", \"German Shepherd\")\n",
        "my_cat = Cat(\"Luna\", \"Grey\")\n",
        "\n",
        "print(my_dog.introduce())\n",
        "print(my_dog.make_sound())\n",
        "\n",
        "print(my_cat.introduce())\n",
        "print(my_cat.make_sound())\n",
        "\n",
        "# Trying to create an instance of the abstract Animal class will raise an error:\n",
        "# try:\n",
        "#     abstract_animal = Animal(\"Abstract One\")\n",
        "# except TypeError as e:\n",
        "#     print(f\"\\nError creating Animal object: {e}\")\n",
        "\n",
        "# Trying to create an instance of Bird will also raise an error because it didn't implement make_sound:\n",
        "# try:\n",
        "#     my_bird = Bird(\"Tweety\")\n",
        "# except TypeError as e:\n",
        "#     print(f\"\\nError creating Bird object: {e}\")"
      ],
      "metadata": {
        "colab": {
          "base_uri": "https://localhost:8080/"
        },
        "id": "aCD89MWGJwN_",
        "outputId": "8af10258-6c41-4c74-a3b6-1ba3fd2602f3"
      },
      "execution_count": 28,
      "outputs": [
        {
          "output_type": "stream",
          "name": "stdout",
          "text": [
            "Hello, I'm Rex.\n",
            "Woof!\n",
            "Hello, I'm Luna.\n",
            "Meow!\n"
          ]
        }
      ]
    },
    {
      "cell_type": "markdown",
      "source": [
        "**Decorators for OOP: @property**\n",
        "\n",
        "You've already seen @classmethod and @staticmethod. Another very useful decorator in OOP is @property.\n",
        "\n",
        "The @property decorator allows you to define methods that can be accessed like attributes. This is super handy for:\n",
        "\n",
        "Read-only attributes: You can make an attribute accessible for reading but not direct writing.\n",
        "\n",
        "Validation: You can add logic when an attribute is set (e.g., ensuring a value is positive).\n",
        "\n",
        "Calculated attributes: You can have an attribute whose value is calculated dynamically based on other attributes.\n",
        "\n",
        "It helps maintain encapsulation by providing controlled access to attributes."
      ],
      "metadata": {
        "id": "B7r8uKRwJzTF"
      }
    },
    {
      "cell_type": "code",
      "source": [
        "class Temperature:\n",
        "    def __init__(self, celsius):\n",
        "        self._celsius = celsius # Store the temperature in Celsius internally\n",
        "\n",
        "    # The @property decorator makes 'celsius' accessible like an attribute.\n",
        "    # This is the 'getter' method.\n",
        "    @property\n",
        "    def celsius(self):\n",
        "        return self._celsius\n",
        "\n",
        "    # The @celsius.setter decorator allows us to define how 'celsius' is set.\n",
        "    # This is the 'setter' method.\n",
        "    @celsius.setter\n",
        "    def celsius(self, value):\n",
        "        if value < -273.15: # Absolute zero\n",
        "            raise ValueError(\"Temperature cannot be below -273.15 Celsius (absolute zero).\")\n",
        "        self._celsius = value\n",
        "\n",
        "    # A 'calculated' property for Fahrenheit\n",
        "    @property\n",
        "    def fahrenheit(self):\n",
        "        return (self.celsius * 9/5) + 32\n",
        "\n",
        "    # A 'calculated' property for Kelvin\n",
        "    @property\n",
        "    def kelvin(self):\n",
        "        return self.celsius + 273.15\n",
        "\n"
      ],
      "metadata": {
        "id": "Bje0n8XkJ2Yg"
      },
      "execution_count": 29,
      "outputs": []
    },
    {
      "cell_type": "markdown",
      "source": [
        "Let's play with our Temperature class:"
      ],
      "metadata": {
        "id": "ytfyuojhJ4cB"
      }
    },
    {
      "cell_type": "code",
      "source": [
        "temp = Temperature(25) # 25 degrees Celsius\n",
        "\n",
        "# Accessing properties like attributes (using the getter)\n",
        "print(f\"Celsius: {temp.celsius}°C\")\n",
        "print(f\"Fahrenheit: {temp.fahrenheit}°F\")\n",
        "print(f\"Kelvin: {temp.kelvin}K\")\n",
        "\n",
        "# Setting the celsius temperature (using the setter)\n",
        "temp.celsius = 30\n",
        "print(f\"\\nNew Celsius: {temp.celsius}°C\")\n",
        "print(f\"New Fahrenheit: {temp.fahrenheit}°F\")\n",
        "\n",
        "# Trying to set an invalid temperature (will raise an error)\n",
        "try:\n",
        "    temp.celsius = -300\n",
        "except ValueError as e:\n",
        "    print(f\"\\nError setting temperature: {e}\")\n",
        "\n",
        "# You can't directly set fahrenheit or kelvin because they only have getters (no setters defined)\n",
        "# try:\n",
        "#     temp.fahrenheit = 100\n",
        "# except AttributeError as e:\n",
        "#     print(f\"\\nError setting Fahrenheit directly: {e}\")"
      ],
      "metadata": {
        "colab": {
          "base_uri": "https://localhost:8080/"
        },
        "id": "cyNDrtvsJ5Bu",
        "outputId": "cc3e0ad0-b6aa-425d-8b08-82ce834bd957"
      },
      "execution_count": 30,
      "outputs": [
        {
          "output_type": "stream",
          "name": "stdout",
          "text": [
            "Celsius: 25°C\n",
            "Fahrenheit: 77.0°F\n",
            "Kelvin: 298.15K\n",
            "\n",
            "New Celsius: 30°C\n",
            "New Fahrenheit: 86.0°F\n",
            "\n",
            "Error setting temperature: Temperature cannot be below -273.15 Celsius (absolute zero).\n"
          ]
        }
      ]
    },
    {
      "cell_type": "markdown",
      "source": [
        "**Magic Methods (Dunder Methods): Special Behaviors**\n",
        "\n",
        "Python classes have many special methods that start and end with double underscores, like __init__. These are often called magic methods or dunder methods (for \"double underscore\"). They allow you to define how objects behave with built-in operations and functions.\n",
        "\n",
        "Here are a few common ones:\n",
        "\n",
        "__str__(self): Defines what happens when you convert an object to a string using str() or print(). It should return a readable string representation for users.\n",
        "\n",
        "__repr__(self): Defines the \"official\" string representation of an object. It should return a string that, if passed to eval(), would recreate the object. Useful for debugging.\n",
        "\n",
        "__len__(self): Defines what len() returns for an object.\n",
        "\n",
        "__add__(self, other): Defines what happens when you use the + operator with objects of your class."
      ],
      "metadata": {
        "id": "JAHIiY_tJ7gJ"
      }
    },
    {
      "cell_type": "code",
      "source": [
        "class Book:\n",
        "    def __init__(self, title, author, pages):\n",
        "        self.title = title\n",
        "        self.author = author\n",
        "        self.pages = pages\n",
        "\n",
        "    # __str__ for user-friendly output (e.g., when you print the object)\n",
        "    def __str__(self):\n",
        "        return f'\"{self.title}\" by {self.author}'\n",
        "\n",
        "    # __repr__ for unambiguous representation (e.g., for developers/debugging)\n",
        "    def __repr__(self):\n",
        "        return f\"Book(title='{self.title}', author='{self.author}', pages={self.pages})\"\n",
        "\n",
        "    # __len__ allows us to use len() on a Book object\n",
        "    def __len__(self):\n",
        "        return self.pages\n",
        "\n",
        "    # __add__ allows us to 'add' two books (e.g., combine their pages)\n",
        "    def __add__(self, other):\n",
        "        if isinstance(other, Book):\n",
        "            # Create a new 'combined' book with combined pages\n",
        "            return Book(f\"{self.title} & {other.title}\", \"Various Authors\", self.pages + other.pages)\n",
        "        else:\n",
        "            raise TypeError(\"Can only add a Book object to another Book object.\")"
      ],
      "metadata": {
        "id": "dkZ419sVJ-2Q"
      },
      "execution_count": 31,
      "outputs": []
    },
    {
      "cell_type": "markdown",
      "source": [
        "Let's see these magic methods in action:"
      ],
      "metadata": {
        "id": "eb9PBECiJ_ue"
      }
    },
    {
      "cell_type": "code",
      "source": [
        "book1 = Book(\"The Hitchhiker's Guide to the Galaxy\", \"Douglas Adams\", 193)\n",
        "book2 = Book(\"The Restaurant at the End of the Universe\", \"Douglas Adams\", 160)\n",
        "\n",
        "# Using __str__ (implicitly by print())\n",
        "print(book1)\n",
        "print(book2)\n",
        "\n",
        "# Using __repr__ (when you just type the variable name in an interactive session or list)\n",
        "print(f\"Representation of book1: {repr(book1)}\")\n",
        "\n",
        "# Using __len__\n",
        "print(f\"Number of pages in book1: {len(book1)}\")\n",
        "print(f\"Number of pages in book2: {len(book2)}\")\n",
        "\n",
        "# Using __add__\n",
        "combined_book = book1 + book2\n",
        "print(f\"\\nCombined book: {combined_book}\")\n",
        "print(f\"Total pages in combined book: {len(combined_book)}\")\n",
        "\n",
        "# Trying to add a non-Book object (will raise an error)\n",
        "try:\n",
        "    book1 + 100\n",
        "except TypeError as e:\n",
        "    print(f\"\\nError adding non-Book object: {e}\")"
      ],
      "metadata": {
        "colab": {
          "base_uri": "https://localhost:8080/"
        },
        "id": "64bJYEc_KA5N",
        "outputId": "571e82bc-89ba-4a84-9634-4269e9c6b3e3"
      },
      "execution_count": 32,
      "outputs": [
        {
          "output_type": "stream",
          "name": "stdout",
          "text": [
            "\"The Hitchhiker's Guide to the Galaxy\" by Douglas Adams\n",
            "\"The Restaurant at the End of the Universe\" by Douglas Adams\n",
            "Representation of book1: Book(title='The Hitchhiker's Guide to the Galaxy', author='Douglas Adams', pages=193)\n",
            "Number of pages in book1: 193\n",
            "Number of pages in book2: 160\n",
            "\n",
            "Combined book: \"The Hitchhiker's Guide to the Galaxy & The Restaurant at the End of the Universe\" by Various Authors\n",
            "Total pages in combined book: 353\n",
            "\n",
            "Error adding non-Book object: Can only add a Book object to another Book object.\n"
          ]
        }
      ]
    },
    {
      "cell_type": "markdown",
      "source": [
        "**Multiple Inheritance: Inheriting from More Than One Parent**\n",
        "\n",
        "Python allows a class to inherit from multiple parent classes. This is called multiple inheritance. While powerful, it can sometimes lead to complex scenarios, especially if parent classes have methods with the same name (this is known as the \"diamond problem\").\n",
        "\n",
        "Python has a clear rule for resolving method calls in such cases: the Method Resolution Order (MRO). You can check the MRO of a class using ClassName.mro() or help(ClassName)."
      ],
      "metadata": {
        "id": "6KF60lbCKDoo"
      }
    },
    {
      "cell_type": "code",
      "source": [
        "class Flyer:\n",
        "    def fly(self):\n",
        "        return \"I can fly!\"\n",
        "\n",
        "class Swimmer:\n",
        "    def swim(self):\n",
        "        return \"I can swim!\"\n",
        "\n",
        "class Duck(Flyer, Swimmer): # Duck inherits from both Flyer and Swimmer\n",
        "    def quack(self):\n",
        "        return \"Quack! Quack!\"\n",
        "\n",
        "    def introduce(self):\n",
        "        return \"I'm a duck, I can fly, swim, and quack!\""
      ],
      "metadata": {
        "id": "Y_TZCSlmLyLs"
      },
      "execution_count": 33,
      "outputs": []
    },
    {
      "cell_type": "markdown",
      "source": [
        "Let's see our multi-talented Duck:"
      ],
      "metadata": {
        "id": "SoYvM8F8Moyg"
      }
    },
    {
      "cell_type": "code",
      "source": [
        "my_duck = Duck()\n",
        "\n",
        "print(my_duck.introduce())\n",
        "print(my_duck.fly())\n",
        "print(my_duck.swim())\n",
        "print(my_duck.quack())\n",
        "\n",
        "# Check the Method Resolution Order (MRO)\n",
        "print(\"\\nMethod Resolution Order for Duck:\")\n",
        "print(Duck.mro())"
      ],
      "metadata": {
        "colab": {
          "base_uri": "https://localhost:8080/"
        },
        "id": "nzJ_CZjQMoO9",
        "outputId": "173f4517-e430-49d3-cea9-22acecf2ed98"
      },
      "execution_count": 34,
      "outputs": [
        {
          "output_type": "stream",
          "name": "stdout",
          "text": [
            "I'm a duck, I can fly, swim, and quack!\n",
            "I can fly!\n",
            "I can swim!\n",
            "Quack! Quack!\n",
            "\n",
            "Method Resolution Order for Duck:\n",
            "[<class '__main__.Duck'>, <class '__main__.Flyer'>, <class '__main__.Swimmer'>, <class 'object'>]\n"
          ]
        }
      ]
    },
    {
      "cell_type": "markdown",
      "source": [
        "# 🎉 Conclusion: Why OOP is Awesome!"
      ],
      "metadata": {
        "id": "8kyt5RWnMs-8"
      }
    },
    {
      "cell_type": "markdown",
      "source": [
        "Phew, that was a lot! You've just explored the core concepts of Object-Oriented Programming in Python, from the very basics to some more advanced topics.\n",
        "\n",
        "So, why bother with all this? OOP helps you write code that is:\n",
        "\n",
        "Modular: Breaking down complex problems into smaller, manageable objects.\n",
        "\n",
        "Reusable: Using inheritance to avoid writing the same code multiple times.\n",
        "\n",
        "Maintainable: Changes in one part of the code are less likely to break other parts.\n",
        "\n",
        "Scalable: Easier to add new features or expand your application.\n",
        "\n",
        "Organized: Makes your code structure clearer and easier for others (and your future self!) to understand.\n",
        "\n",
        "Keep practicing, and you'll find OOP becomes a natural and powerful way to design your Python programs! Happy coding!"
      ],
      "metadata": {
        "id": "AjJmAh3QMvjK"
      }
    }
  ]
}