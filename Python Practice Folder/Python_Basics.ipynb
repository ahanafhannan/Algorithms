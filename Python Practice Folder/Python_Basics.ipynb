{
  "nbformat": 4,
  "nbformat_minor": 0,
  "metadata": {
    "colab": {
      "provenance": []
    },
    "kernelspec": {
      "name": "python3",
      "display_name": "Python 3"
    },
    "language_info": {
      "name": "python"
    }
  },
  "cells": [
    {
      "cell_type": "markdown",
      "source": [
        "# Python Basics: Your First Steps into Coding!"
      ],
      "metadata": {
        "id": "I4XBXWj6QVCn"
      }
    },
    {
      "cell_type": "markdown",
      "source": [
        "Hey there, future coder! Welcome to the exciting world of Python! If you're just starting out, you're in the right place. Python is super popular because it's easy to read and write, almost like plain English. It's used for everything from web development to data science and even making games!\n",
        "\n",
        "In this guide, we'll walk through the absolute fundamentals of Python. We'll cover how to store information, make decisions in your code, and repeat tasks efficiently. Just like before, we'll use a \"text-then-code\" style, so you can see how everything works right away.\n",
        "\n",
        "Let's get started on your coding journey!"
      ],
      "metadata": {
        "id": "L9xv6L0JQX9I"
      }
    },
    {
      "cell_type": "markdown",
      "source": [
        "# 🔢 Part 1: Variables and Numbers - Storing Your Data\n",
        "\n",
        "Imagine you have a bunch of different things you want to remember, like your age, your name, or the price of an item. In programming, we use variables to store these pieces of information. Think of a variable as a named box where you can put data.\n",
        "\n",
        "What are Variables?\n",
        "\n",
        "A variable is simply a name that refers to a value. You can give it any name you want (following some rules, like no spaces or starting with a number), and then assign a value to it using the = sign."
      ],
      "metadata": {
        "id": "IncMsxP4QarR"
      }
    },
    {
      "cell_type": "code",
      "source": [
        "# This is how you create a variable and assign a value to it.\n",
        "# 'my_age' is the variable name, and '30' is the value.\n",
        "my_age = 30\n",
        "\n",
        "# 'my_name' is another variable, storing text (a string).\n",
        "my_name = \"Alice\"\n",
        "\n",
        "# You can print the value stored in a variable.\n",
        "print(f\"My age is: {my_age}\")\n",
        "print(f\"My name is: {my_name}\")\n",
        "\n",
        "# You can also change the value of a variable later.\n",
        "my_age = 31\n",
        "print(f\"My new age is: {my_age}\")"
      ],
      "metadata": {
        "colab": {
          "base_uri": "https://localhost:8080/"
        },
        "id": "Wynj2_CKQiD6",
        "outputId": "3dc814ec-a664-4722-870a-5834e8835258"
      },
      "execution_count": 1,
      "outputs": [
        {
          "output_type": "stream",
          "name": "stdout",
          "text": [
            "My age is: 30\n",
            "My name is: Alice\n",
            "My new age is: 31\n"
          ]
        }
      ]
    },
    {
      "cell_type": "markdown",
      "source": [
        "Numbers and Basic Math Operations\n",
        "\n",
        "Python is fantastic at handling numbers! There are two main types of numbers you'll use:\n",
        "\n",
        "Integers (int): Whole numbers (e.g., 5, -10, 0).\n",
        "\n",
        "Floating-point numbers (float): Numbers with a decimal point (e.g., 3.14, -0.5, 100.0).\n",
        "\n",
        "You can perform all the usual math operations:\n",
        "\n",
        "\"+\" (Addition)\n",
        "\n",
        "\"-\" (Subtraction)\n",
        "\n",
        "\"*\" (Multiplication)\n",
        "\n",
        "\"/\" (Division)\n",
        "\n",
        "\"%\" (Modulo - gives the remainder of a division)\n",
        "\n",
        "\"**\" (Exponentiation - \"to the power of\")\n",
        "\n",
        "\"//\" (Floor Division - gives the whole number result of a division, discarding the remainder)"
      ],
      "metadata": {
        "id": "7wN7Stu0QjvP"
      }
    },
    {
      "cell_type": "code",
      "source": [
        "# Let's define some numbers\n",
        "num1 = 10\n",
        "num2 = 3.5\n",
        "\n",
        "# Addition\n",
        "sum_result = num1 + num2\n",
        "print(f\"10 + 3.5 = {sum_result}\")\n",
        "\n",
        "# Subtraction\n",
        "diff_result = num1 - 2\n",
        "print(f\"10 - 2 = {diff_result}\")\n",
        "\n",
        "# Multiplication\n",
        "prod_result = num1 * num2\n",
        "print(f\"10 * 3.5 = {prod_result}\")\n",
        "\n",
        "# Division (always returns a float)\n",
        "div_result = num1 / 3\n",
        "print(f\"10 / 3 = {div_result}\")\n",
        "\n",
        "# Modulo operator: The remainder after division\n",
        "# 10 divided by 3 is 3 with a remainder of 1\n",
        "remainder = 10 % 3\n",
        "print(f\"10 % 3 (remainder) = {remainder}\")\n",
        "\n",
        "# Floor division: Divides and rounds down to the nearest whole number\n",
        "floor_div = 10 // 3\n",
        "print(f\"10 // 3 (floor division) = {floor_div}\")\n",
        "\n",
        "# Exponentiation: 2 to the power of 3 (2*2*2)\n",
        "power_result = 2 ** 3\n",
        "print(f\"2 ** 3 (power) = {power_result}\")\n"
      ],
      "metadata": {
        "colab": {
          "base_uri": "https://localhost:8080/"
        },
        "id": "9dvJkL24QmxC",
        "outputId": "407dfc05-02b4-4972-83c9-65375d60389e"
      },
      "execution_count": 2,
      "outputs": [
        {
          "output_type": "stream",
          "name": "stdout",
          "text": [
            "10 + 3.5 = 13.5\n",
            "10 - 2 = 8\n",
            "10 * 3.5 = 35.0\n",
            "10 / 3 = 3.3333333333333335\n",
            "10 % 3 (remainder) = 1\n",
            "10 // 3 (floor division) = 3\n",
            "2 ** 3 (power) = 8\n"
          ]
        }
      ]
    },
    {
      "cell_type": "markdown",
      "source": [
        "**Even or Odd? Using the Modulo Operator!**\n",
        "\n",
        "The modulo operator (%) is super handy for figuring out if a number is even or odd.\n",
        "\n",
        "An even number, when divided by 2, has a remainder of 0.\n",
        "\n",
        "An odd number, when divided by 2, has a remainder of 1"
      ],
      "metadata": {
        "id": "48s_Lj9IQ4Z9"
      }
    },
    {
      "cell_type": "code",
      "source": [
        "number_to_check = 7\n",
        "\n",
        "# If the remainder when divided by 2 is 0, it's even.\n",
        "if number_to_check % 2 == 0:\n",
        "    print(f\"{number_to_check} is an even number.\")\n",
        "else:\n",
        "    print(f\"{number_to_check} is an odd number.\")\n",
        "\n",
        "number_to_check = 12\n",
        "if number_to_check % 2 == 0:\n",
        "    print(f\"{number_to_check} is an even number.\")\n",
        "else:\n",
        "    print(f\"{number_to_check} is an odd number.\")"
      ],
      "metadata": {
        "colab": {
          "base_uri": "https://localhost:8080/"
        },
        "id": "ZQn2ygctQ7A8",
        "outputId": "8c489af2-48e7-4861-a603-4ecca3b3878c"
      },
      "execution_count": 3,
      "outputs": [
        {
          "output_type": "stream",
          "name": "stdout",
          "text": [
            "7 is an odd number.\n",
            "12 is an even number.\n"
          ]
        }
      ]
    },
    {
      "cell_type": "markdown",
      "source": [
        "# 📝 Part 2: Strings - Working with Text\n",
        "Strings are sequences of characters, basically text. In Python, you can create strings by enclosing text in single quotes ('...'), double quotes (\"...\"), or even triple quotes (\"\"\"...\"\"\" or '''...''') for multi-line strings.\n",
        "\n",
        "String Basics and Concatenation"
      ],
      "metadata": {
        "id": "NvjwIoKrQ8E1"
      }
    },
    {
      "cell_type": "code",
      "source": [
        "# Defining strings\n",
        "greeting = \"Hello\"\n",
        "name = 'World'\n",
        "multi_line_text = \"\"\"This is a\n",
        "multi-line string.\n",
        "It's quite useful!\"\"\"\n",
        "\n",
        "print(greeting)\n",
        "print(name)\n",
        "print(multi_line_text)\n",
        "\n",
        "# String Concatenation: Joining strings together using '+'\n",
        "full_greeting = greeting + \", \" + name + \"!\"\n",
        "print(full_greeting)\n",
        "\n",
        "# You can also multiply a string to repeat it\n",
        "repeated_text = \"Python \" * 3\n",
        "print(repeated_text)"
      ],
      "metadata": {
        "colab": {
          "base_uri": "https://localhost:8080/"
        },
        "id": "qA4s0yr-RAr1",
        "outputId": "ec1534e4-998f-4be1-86fa-60f1e920011d"
      },
      "execution_count": 4,
      "outputs": [
        {
          "output_type": "stream",
          "name": "stdout",
          "text": [
            "Hello\n",
            "World\n",
            "This is a\n",
            "multi-line string.\n",
            "It's quite useful!\n",
            "Hello, World!\n",
            "Python Python Python \n"
          ]
        }
      ]
    },
    {
      "cell_type": "markdown",
      "source": [
        "String Indexing and Slicing\n",
        "Strings are ordered, meaning each character has a position, or index. Python uses zero-based indexing, so the first character is at index 0, the second at index 1, and so on.\n",
        "\n",
        "Indexing: Access a single character using square brackets [].\n",
        "\n",
        "Slicing: Get a portion (a \"slice\") of the string using [start:end]. The character at end is not included. You can also use [start:end:step] to skip characters."
      ],
      "metadata": {
        "id": "iJToy9uDRDzP"
      }
    },
    {
      "cell_type": "code",
      "source": [
        "my_string = \"Python is fun!\"\n",
        "\n",
        "# Accessing individual characters by index\n",
        "print(f\"First character: {my_string[0]}\")  # P\n",
        "print(f\"Sixth character: {my_string[5]}\")  # n\n",
        "print(f\"Last character (negative indexing): {my_string[-1]}\") # !\n",
        "\n",
        "# Slicing a part of the string\n",
        "print(f\"Slice from index 0 to 6 (exclusive): {my_string[0:6]}\") # Python\n",
        "print(f\"Slice from index 7 to end: {my_string[7:]}\") # is fun!\n",
        "print(f\"Slice from beginning to index 6 (exclusive): {my_string[:6]}\") # Python\n",
        "print(f\"Copy of the whole string: {my_string[:]}\") # Python is fun!\n",
        "\n",
        "# Slicing with a step\n",
        "print(f\"Every second character: {my_string[::2]}\") # Pto sfn\n",
        "print(f\"Reversed string: {my_string[::-1]}\") # !nuf si nohtyP"
      ],
      "metadata": {
        "colab": {
          "base_uri": "https://localhost:8080/"
        },
        "id": "tAzgLAmLRGLg",
        "outputId": "4e5f0379-4b24-4820-8a12-07675ec3b0e9"
      },
      "execution_count": 5,
      "outputs": [
        {
          "output_type": "stream",
          "name": "stdout",
          "text": [
            "First character: P\n",
            "Sixth character: n\n",
            "Last character (negative indexing): !\n",
            "Slice from index 0 to 6 (exclusive): Python\n",
            "Slice from index 7 to end: is fun!\n",
            "Slice from beginning to index 6 (exclusive): Python\n",
            "Copy of the whole string: Python is fun!\n",
            "Every second character: Pto sfn\n",
            "Reversed string: !nuf si nohtyP\n"
          ]
        }
      ]
    },
    {
      "cell_type": "markdown",
      "source": [
        "String Methods and Iteration\n",
        "Strings come with many built-in methods (functions that belong to the string object) that help you manipulate them.\n",
        "\n",
        "You can also iterate through a string, meaning you can go through each character one by one."
      ],
      "metadata": {
        "id": "vBCO_gilRH1s"
      }
    },
    {
      "cell_type": "code",
      "source": [
        "sentence = \"  Hello World, Python is great!  \"\n",
        "\n",
        "# .upper() and .lower()\n",
        "print(f\"Uppercase: {sentence.upper()}\")\n",
        "print(f\"Lowercase: {sentence.lower()}\")\n",
        "\n",
        "# .strip() removes leading/trailing whitespace\n",
        "print(f\"Stripped: '{sentence.strip()}'\")\n",
        "\n",
        "# .replace() replaces occurrences of a substring\n",
        "print(f\"Replaced 'is' with 'was': {sentence.replace('is', 'was')}\")\n",
        "\n",
        "# .split() splits a string into a list of substrings based on a delimiter\n",
        "words = sentence.strip().split(\" \") # Split by space after stripping whitespace\n",
        "print(f\"Split into words: {words}\")\n",
        "\n",
        "# .startswith() and .endswith()\n",
        "print(f\"Starts with '  Hello': {sentence.startswith('  Hello')}\")\n",
        "print(f\"Ends with 'great!  ': {sentence.endswith('great!  ')}\")\n",
        "\n",
        "# Iterating through a string (character by character)\n",
        "print(\"\\nCharacters in 'Python':\")\n",
        "for char in \"Python\":\n",
        "    print(char)"
      ],
      "metadata": {
        "colab": {
          "base_uri": "https://localhost:8080/"
        },
        "id": "0GnH_htqRIYM",
        "outputId": "99354402-d9e4-433b-fbef-a89c59ba126d"
      },
      "execution_count": 6,
      "outputs": [
        {
          "output_type": "stream",
          "name": "stdout",
          "text": [
            "Uppercase:   HELLO WORLD, PYTHON IS GREAT!  \n",
            "Lowercase:   hello world, python is great!  \n",
            "Stripped: 'Hello World, Python is great!'\n",
            "Replaced 'is' with 'was':   Hello World, Python was great!  \n",
            "Split into words: ['Hello', 'World,', 'Python', 'is', 'great!']\n",
            "Starts with '  Hello': True\n",
            "Ends with 'great!  ': True\n",
            "\n",
            "Characters in 'Python':\n",
            "P\n",
            "y\n",
            "t\n",
            "h\n",
            "o\n",
            "n\n"
          ]
        }
      ]
    },
    {
      "cell_type": "markdown",
      "source": [
        "# 🚦 Part 3: Conditional Statements - Making Decisions\n",
        "In programming, you often need your code to make decisions based on certain conditions. This is where conditional statements come in, primarily if, elif (else if), and else.\n",
        "\n",
        "**if, elif, else**\n",
        "\n",
        "if: Executes a block of code only if a condition is true.\n",
        "\n",
        "elif: (short for \"else if\") Checks another condition if the previous if or elif conditions were false. You can have multiple elif blocks.\n",
        "\n",
        "else: Executes a block of code if none of the preceding if or elif conditions were true."
      ],
      "metadata": {
        "id": "QDxovCHgRJ0P"
      }
    },
    {
      "cell_type": "code",
      "source": [
        "score = 85\n",
        "\n",
        "if score >= 90:\n",
        "    print(\"Grade: A\")\n",
        "elif score >= 80: # This is checked only if score is NOT >= 90\n",
        "    print(\"Grade: B\")\n",
        "elif score >= 70: # This is checked only if score is NOT >= 80\n",
        "    print(\"Grade: C\")\n",
        "else: # This is executed if none of the above conditions are met\n",
        "    print(\"Grade: F\")\n",
        "\n",
        "# Another example with a simple if-else\n",
        "is_raining = True\n",
        "if is_raining:\n",
        "    print(\"Take an umbrella!\")\n",
        "else:\n",
        "    print(\"Enjoy the sunshine!\")"
      ],
      "metadata": {
        "colab": {
          "base_uri": "https://localhost:8080/"
        },
        "id": "FGav9K-0R4i2",
        "outputId": "acb12046-35fa-442d-d494-0a7ddaeef897"
      },
      "execution_count": 7,
      "outputs": [
        {
          "output_type": "stream",
          "name": "stdout",
          "text": [
            "Grade: B\n",
            "Take an umbrella!\n"
          ]
        }
      ]
    },
    {
      "cell_type": "markdown",
      "source": [
        "**Comparison and Logical Operators**\n",
        "\n",
        "To make decisions, you'll use comparison operators to compare values and logical operators to combine conditions.\n",
        "\n",
        "Comparison Operators:\n",
        "\n",
        "'==' (Equal to)\n",
        "\n",
        "'!=' (Not equal to)\n",
        "\n",
        "'<' (Less than)\n",
        "\n",
        "'>' (Greater than)\n",
        "\n",
        "'<=' (Less than or equal to)\n",
        "\n",
        "'>=' (Greater than or equal to)\n",
        "\n",
        "Logical Operators:\n",
        "\n",
        "and: True if both conditions are true.\n",
        "\n",
        "or: True if at least one condition is true.\n",
        "\n",
        "not: Reverses the truth value (True becomes False, False becomes True)."
      ],
      "metadata": {
        "id": "qhVPKE-LR9FA"
      }
    },
    {
      "cell_type": "code",
      "source": [
        "age = 25\n",
        "has_license = True\n",
        "\n",
        "# Using comparison operators\n",
        "print(f\"Is age equal to 25? {age == 25}\")\n",
        "print(f\"Is age greater than 30? {age > 30}\")\n",
        "print(f\"Is age not equal to 20? {age != 20}\")\n",
        "\n",
        "# Using logical operators\n",
        "# Check if eligible to drive (age >= 18 AND has_license)\n",
        "if age >= 18 and has_license:\n",
        "    print(\"You are eligible to drive.\")\n",
        "else:\n",
        "    print(\"You are not eligible to drive.\")\n",
        "\n",
        "# Check if it's a weekend OR a holiday\n",
        "day_of_week = \"Saturday\"\n",
        "is_holiday = False\n",
        "if day_of_week == \"Saturday\" or day_of_week == \"Sunday\" or is_holiday:\n",
        "    print(\"It's a day off!\")\n",
        "else:\n",
        "    print(\"It's a weekday.\")\n",
        "\n",
        "# Using 'not'\n",
        "is_sunny = False\n",
        "if not is_sunny:\n",
        "    print(\"It's cloudy or raining.\")"
      ],
      "metadata": {
        "colab": {
          "base_uri": "https://localhost:8080/"
        },
        "id": "VuAzPbP3SGPP",
        "outputId": "5eed4791-5dca-4998-9840-eccd8eea5afa"
      },
      "execution_count": 8,
      "outputs": [
        {
          "output_type": "stream",
          "name": "stdout",
          "text": [
            "Is age equal to 25? True\n",
            "Is age greater than 30? False\n",
            "Is age not equal to 20? True\n",
            "You are eligible to drive.\n",
            "It's a day off!\n",
            "It's cloudy or raining.\n"
          ]
        }
      ]
    },
    {
      "cell_type": "markdown",
      "source": [
        "# 🔄 Part 4: Loops - Repeating Actions\n",
        "Loops are essential for automating repetitive tasks. Instead of writing the same code multiple times, you can tell Python to repeat a block of code a certain number of times or until a condition is met.\n",
        "\n",
        "for Loops: Iterating Over Sequences\n",
        "A for loop is used to iterate over a sequence (like a string, a list, or a range of numbers)."
      ],
      "metadata": {
        "id": "RtfC4Nc0SLXz"
      }
    },
    {
      "cell_type": "code",
      "source": [
        "# Looping through a range of numbers\n",
        "# range(5) generates numbers from 0 up to (but not including) 5: 0, 1, 2, 3, 4\n",
        "print(\"Counting from 0 to 4:\")\n",
        "for i in range(5):\n",
        "    print(i)\n",
        "\n",
        "# Looping through a string\n",
        "print(\"\\nCharacters in 'Python':\")\n",
        "for char in \"Python\":\n",
        "    print(char)\n",
        "\n",
        "# Looping with a start and end in range()\n",
        "# range(1, 6) generates numbers from 1 up to (but not including) 6: 1, 2, 3, 4, 5\n",
        "print(\"\\nCounting from 1 to 5:\")\n",
        "for num in range(1, 6):\n",
        "    print(num)\n",
        "\n",
        "# Looping with a step in range()\n",
        "# range(0, 10, 2) generates numbers from 0 to 10, stepping by 2: 0, 2, 4, 6, 8\n",
        "print(\"\\nEven numbers from 0 to 8:\")\n",
        "for even_num in range(0, 10, 2):\n",
        "    print(even_num)\n"
      ],
      "metadata": {
        "colab": {
          "base_uri": "https://localhost:8080/"
        },
        "id": "l1knQqONSOJt",
        "outputId": "2229dc19-2785-4890-801a-0683ce8af2ca"
      },
      "execution_count": 9,
      "outputs": [
        {
          "output_type": "stream",
          "name": "stdout",
          "text": [
            "Counting from 0 to 4:\n",
            "0\n",
            "1\n",
            "2\n",
            "3\n",
            "4\n",
            "\n",
            "Characters in 'Python':\n",
            "P\n",
            "y\n",
            "t\n",
            "h\n",
            "o\n",
            "n\n",
            "\n",
            "Counting from 1 to 5:\n",
            "1\n",
            "2\n",
            "3\n",
            "4\n",
            "5\n",
            "\n",
            "Even numbers from 0 to 8:\n",
            "0\n",
            "2\n",
            "4\n",
            "6\n",
            "8\n"
          ]
        }
      ]
    },
    {
      "cell_type": "markdown",
      "source": [
        "while Loops: Repeating Until a Condition is False\n",
        "A while loop keeps executing a block of code as long as a certain condition remains true. You need to be careful to make sure the condition eventually becomes false, otherwise, you'll have an infinite loop!"
      ],
      "metadata": {
        "id": "0bTjPwtMSYbD"
      }
    },
    {
      "cell_type": "code",
      "source": [
        "# A simple while loop\n",
        "count = 0\n",
        "print(\"Counting up to 3:\")\n",
        "while count < 4: # Loop as long as count is less than 4\n",
        "    print(count)\n",
        "    count += 1 # Increment count in each iteration, so it eventually becomes 4\n",
        "\n",
        "# A while loop for user input until a specific input is given\n",
        "secret_word = \"python\"\n",
        "guess = \"\"\n",
        "print(\"\\nGuess the secret word!\")\n",
        "while guess != secret_word:\n",
        "    guess = input(\"Enter your guess: \").lower() # .lower() converts input to lowercase\n",
        "    if guess != secret_word:\n",
        "        print(\"Incorrect guess, try again!\")\n",
        "print(\"Congratulations! You guessed the secret word!\")"
      ],
      "metadata": {
        "colab": {
          "base_uri": "https://localhost:8080/"
        },
        "id": "vno97am9SZrh",
        "outputId": "27553975-bc04-4757-b421-139d9e5f100d"
      },
      "execution_count": 10,
      "outputs": [
        {
          "output_type": "stream",
          "name": "stdout",
          "text": [
            "Counting up to 3:\n",
            "0\n",
            "1\n",
            "2\n",
            "3\n",
            "\n",
            "Guess the secret word!\n",
            "Enter your guess: python\n",
            "Congratulations! You guessed the secret word!\n"
          ]
        }
      ]
    },
    {
      "cell_type": "markdown",
      "source": [
        "**break and continue Statements**\n",
        "\n",
        "break: Immediately exits the current loop. The loop stops completely.\n",
        "\n",
        "continue: Skips the rest of the current iteration of the loop and moves to the next iteration."
      ],
      "metadata": {
        "id": "RyT4Yj0yU4fJ"
      }
    },
    {
      "cell_type": "code",
      "source": [
        "print(\"Using 'break':\")\n",
        "for i in range(10):\n",
        "    if i == 5:\n",
        "        print(\"Reached 5, breaking the loop!\")\n",
        "        break # Exit the loop entirely\n",
        "    print(i)\n",
        "\n",
        "print(\"\\nUsing 'continue':\")\n",
        "for i in range(10):\n",
        "    if i % 2 == 0: # If 'i' is even\n",
        "        print(f\"Skipping even number: {i}\")\n",
        "        continue # Skip the rest of this iteration, go to the next 'i'\n",
        "    print(f\"Found odd number: {i}\") # This line only runs for odd numbers\n"
      ],
      "metadata": {
        "colab": {
          "base_uri": "https://localhost:8080/"
        },
        "id": "MhycUm5XVQuX",
        "outputId": "bc003b01-0ef7-4bc7-a104-681b67b0b6d3"
      },
      "execution_count": 11,
      "outputs": [
        {
          "output_type": "stream",
          "name": "stdout",
          "text": [
            "Using 'break':\n",
            "0\n",
            "1\n",
            "2\n",
            "3\n",
            "4\n",
            "Reached 5, breaking the loop!\n",
            "\n",
            "Using 'continue':\n",
            "Skipping even number: 0\n",
            "Found odd number: 1\n",
            "Skipping even number: 2\n",
            "Found odd number: 3\n",
            "Skipping even number: 4\n",
            "Found odd number: 5\n",
            "Skipping even number: 6\n",
            "Found odd number: 7\n",
            "Skipping even number: 8\n",
            "Found odd number: 9\n"
          ]
        }
      ]
    },
    {
      "cell_type": "markdown",
      "source": [
        "**Nested Loops: Loops Inside Loops**\n",
        "\n",
        "You can put a loop inside another loop. This is called a nested loop. They're useful for tasks like working with grids or creating patterns."
      ],
      "metadata": {
        "id": "1spX18FKVRnH"
      }
    },
    {
      "cell_type": "code",
      "source": [
        "# Example: Printing a multiplication table (up to 3x3)\n",
        "print(\"Multiplication Table (3x3):\")\n",
        "for i in range(1, 4): # Outer loop for rows (1, 2, 3)\n",
        "    for j in range(1, 4): # Inner loop for columns (1, 2, 3)\n",
        "        print(f\"{i} * {j} = {i * j}\", end=\"\\t\") # '\\t' adds a tab for spacing\n",
        "    print() # Move to the next line after each row is complete\n",
        "\n",
        "# Example: Creating a simple pattern\n",
        "print(\"\\nStar Pattern:\")\n",
        "for i in range(1, 6): # Outer loop controls number of rows\n",
        "    for j in range(i): # Inner loop controls number of stars in each row\n",
        "        print(\"*\", end=\"\") # Print a star without a newline\n",
        "    print() # Move to the next line after printing stars for a row\n"
      ],
      "metadata": {
        "colab": {
          "base_uri": "https://localhost:8080/"
        },
        "id": "JLRELzOXVWOM",
        "outputId": "ef95cd88-5405-4626-fe1a-bab367ea96fb"
      },
      "execution_count": 12,
      "outputs": [
        {
          "output_type": "stream",
          "name": "stdout",
          "text": [
            "Multiplication Table (3x3):\n",
            "1 * 1 = 1\t1 * 2 = 2\t1 * 3 = 3\t\n",
            "2 * 1 = 2\t2 * 2 = 4\t2 * 3 = 6\t\n",
            "3 * 1 = 3\t3 * 2 = 6\t3 * 3 = 9\t\n",
            "\n",
            "Star Pattern:\n",
            "*\n",
            "**\n",
            "***\n",
            "****\n",
            "*****\n"
          ]
        }
      ]
    },
    {
      "cell_type": "markdown",
      "source": [
        "# 🛠️ Part 4.5: Built-in Functions - Your Python Toolbox!\n",
        "Python comes with a bunch of ready-to-use tools called built-in functions. These are like shortcuts for common tasks, saving you a lot of typing and making your code cleaner! You've actually already used some of them!\n",
        "\n",
        "print() and input(): Talking to Your Program\n",
        "We've been using print() all along to show messages on the screen. It's one of the most fundamental built-in functions! And input() is how your program can ask the user for information."
      ],
      "metadata": {
        "id": "89tCvZk9XcJB"
      }
    },
    {
      "cell_type": "code",
      "source": [
        "# print() displays output to the console\n",
        "print(\"Hello from a built-in function!\")\n",
        "\n",
        "# input() gets text input from the user\n",
        "user_name = input(\"What's your name? \")\n",
        "print(f\"Nice to meet you, {user_name}!\")"
      ],
      "metadata": {
        "colab": {
          "base_uri": "https://localhost:8080/"
        },
        "id": "YuLve8q7XhJI",
        "outputId": "7eae54d6-f604-418a-9efe-59d69071b6c7"
      },
      "execution_count": 13,
      "outputs": [
        {
          "output_type": "stream",
          "name": "stdout",
          "text": [
            "Hello from a built-in function!\n",
            "What's your name? hannan\n",
            "Nice to meet you, hannan!\n"
          ]
        }
      ]
    },
    {
      "cell_type": "markdown",
      "source": [
        "len(): How Long is It?\n",
        "The len() function tells you the length of something, like how many characters are in a string or how many items are in a list (we'll learn about lists soon!)."
      ],
      "metadata": {
        "id": "tp3SN1-vXjPa"
      }
    },
    {
      "cell_type": "code",
      "source": [
        "my_string = \"Python\"\n",
        "\n",
        "# Using len() to find the length of a string\n",
        "length_with_len = len(my_string)\n",
        "print(f\"Length of '{my_string}' using len(): {length_with_len}\")\n",
        "\n",
        "# How you'd find length WITHOUT len() (more work!)\n",
        "length_manual = 0\n",
        "for char in my_string:\n",
        "    length_manual += 1\n",
        "print(f\"Length of '{my_string}' manually: {length_manual}\")"
      ],
      "metadata": {
        "colab": {
          "base_uri": "https://localhost:8080/"
        },
        "id": "TGyIieMmXjq8",
        "outputId": "8ec29d4c-05ab-4139-c82a-e456a50e0c1a"
      },
      "execution_count": 14,
      "outputs": [
        {
          "output_type": "stream",
          "name": "stdout",
          "text": [
            "Length of 'Python' using len(): 6\n",
            "Length of 'Python' manually: 6\n"
          ]
        }
      ]
    },
    {
      "cell_type": "markdown",
      "source": [
        "type(): What Kind of Data Is This?\n",
        "The type() function is super useful for checking what type of data a variable holds (e.g., integer, float, string)."
      ],
      "metadata": {
        "id": "WmukuDCoXmpA"
      }
    },
    {
      "cell_type": "code",
      "source": [
        "my_int = 10\n",
        "my_float = 3.14\n",
        "my_text = \"coding\"\n",
        "\n",
        "print(f\"Type of {my_int}: {type(my_int)}\")\n",
        "print(f\"Type of {my_float}: {type(my_float)}\")\n",
        "print(f\"Type of '{my_text}': {type(my_text)}\")\n"
      ],
      "metadata": {
        "colab": {
          "base_uri": "https://localhost:8080/"
        },
        "id": "9E0y8cH3XnGG",
        "outputId": "727f5230-5bf6-4d29-9ef8-271c3b9a70a2"
      },
      "execution_count": 15,
      "outputs": [
        {
          "output_type": "stream",
          "name": "stdout",
          "text": [
            "Type of 10: <class 'int'>\n",
            "Type of 3.14: <class 'float'>\n",
            "Type of 'coding': <class 'str'>\n"
          ]
        }
      ]
    },
    {
      "cell_type": "markdown",
      "source": [
        "Type Conversion: int(), float(), str()\n",
        "These built-in functions help you change data from one type to another. For example, converting a number stored as text into an actual number."
      ],
      "metadata": {
        "id": "40JUA4oQXox8"
      }
    },
    {
      "cell_type": "code",
      "source": [
        "string_number = \"123\"\n",
        "float_number = 45.67\n",
        "\n",
        "# Convert string to integer using int()\n",
        "converted_int = int(string_number)\n",
        "print(f\"'{string_number}' as an integer: {converted_int}, type: {type(converted_int)}\")\n",
        "\n",
        "# Convert string to float using float()\n",
        "converted_float_from_str = float(string_number)\n",
        "print(f\"'{string_number}' as a float: {converted_float_from_str}, type: {type(converted_float_from_str)}\")\n",
        "\n",
        "# Convert float to integer (it will cut off the decimal part!)\n",
        "converted_int_from_float = int(float_number)\n",
        "print(f\"{float_number} as an integer: {converted_int_from_float}, type: {type(converted_int_from_float)}\")\n",
        "\n",
        "# Convert number to string using str()\n",
        "converted_string = str(my_int)\n",
        "print(f\"{my_int} as a string: '{converted_string}', type: {type(converted_string)}\")"
      ],
      "metadata": {
        "colab": {
          "base_uri": "https://localhost:8080/"
        },
        "id": "k3rKFW48Xrki",
        "outputId": "61e017ad-9b59-4345-f060-9b2cdad018fc"
      },
      "execution_count": 16,
      "outputs": [
        {
          "output_type": "stream",
          "name": "stdout",
          "text": [
            "'123' as an integer: 123, type: <class 'int'>\n",
            "'123' as a float: 123.0, type: <class 'float'>\n",
            "45.67 as an integer: 45, type: <class 'int'>\n",
            "10 as a string: '10', type: <class 'str'>\n"
          ]
        }
      ]
    },
    {
      "cell_type": "markdown",
      "source": [
        "min(), max(), sum(): Quick Calculations\n",
        "These functions are great for finding the smallest, largest, or total sum of numbers in a collection (like a list, which we'll cover next!)."
      ],
      "metadata": {
        "id": "DFDgNrQVXvZZ"
      }
    },
    {
      "cell_type": "code",
      "source": [
        "# For now, let's just use a few numbers directly\n",
        "num_list = [10, 5, 20, 8, 15]\n",
        "\n",
        "# Using min() to find the smallest number\n",
        "smallest_with_min = min(num_list)\n",
        "print(f\"Smallest number using min(): {smallest_with_min}\")\n",
        "\n",
        "# How you'd find the smallest WITHOUT min() (a bit more complex!)\n",
        "smallest_manual = num_list[0] # Start with the first number as the smallest\n",
        "for num in num_list:\n",
        "    if num < smallest_manual:\n",
        "        smallest_manual = num\n",
        "print(f\"Smallest number manually: {smallest_manual}\")\n",
        "\n",
        "\n",
        "# Using max() to find the largest number\n",
        "largest_with_max = max(num_list)\n",
        "print(f\"\\nLargest number using max(): {largest_with_max}\")\n",
        "\n",
        "# How you'd find the largest WITHOUT max()\n",
        "largest_manual = num_list[0]\n",
        "for num in num_list:\n",
        "    if num > largest_manual:\n",
        "        largest_manual = num\n",
        "print(f\"Largest number manually: {largest_manual}\")\n",
        "\n",
        "\n",
        "# Using sum() to find the total sum\n",
        "total_with_sum = sum(num_list)\n",
        "print(f\"\\nSum of numbers using sum(): {total_with_sum}\")\n",
        "\n",
        "# How you'd find the sum WITHOUT sum()\n",
        "total_manual = 0\n",
        "for num in num_list:\n",
        "    total_manual += num\n",
        "print(f\"Sum of numbers manually: {total_manual}\")"
      ],
      "metadata": {
        "colab": {
          "base_uri": "https://localhost:8080/"
        },
        "id": "1sh8X58YXv7r",
        "outputId": "beb4961f-acfc-4711-e8c3-cb41073fa615"
      },
      "execution_count": 17,
      "outputs": [
        {
          "output_type": "stream",
          "name": "stdout",
          "text": [
            "Smallest number using min(): 5\n",
            "Smallest number manually: 5\n",
            "\n",
            "Largest number using max(): 20\n",
            "Largest number manually: 20\n",
            "\n",
            "Sum of numbers using sum(): 58\n",
            "Sum of numbers manually: 58\n"
          ]
        }
      ]
    },
    {
      "cell_type": "markdown",
      "source": [
        "# 🧠 Part 5: Common Problems - Put Your Skills to the Test!\n",
        "Now that you've learned the basics, let's try to solve some common programming problems. These are similar to what you might find on coding challenge websites like LeetCode, designed to help you practice your new skills!\n",
        "\n",
        "Problem 1: FizzBuzz\n",
        "Description: Write a program that prints numbers from 1 to 100. But for multiples of three, print \"Fizz\" instead of the number, and for the multiples of five, print \"Buzz\". For numbers which are multiples of both three and five, print \"FizzBuzz\".\n",
        "\n",
        "Concepts used: Loops, if-elif-else, modulo operator."
      ],
      "metadata": {
        "id": "N7n__OqRX8ko"
      }
    },
    {
      "cell_type": "code",
      "source": [
        "# Solution for FizzBuzz\n",
        "print(\"--- FizzBuzz ---\")\n",
        "for number in range(1, 101): # Loop from 1 to 100\n",
        "    if number % 3 == 0 and number % 5 == 0: # Check for multiples of both 3 and 5 first\n",
        "        print(\"FizzBuzz\")\n",
        "    elif number % 3 == 0: # Check for multiples of 3\n",
        "        print(\"Fizz\")\n",
        "    elif number % 5 == 0: # Check for multiples of 5\n",
        "        print(\"Buzz\")\n",
        "    else: # If none of the above, print the number\n",
        "        print(number)"
      ],
      "metadata": {
        "colab": {
          "base_uri": "https://localhost:8080/"
        },
        "id": "3JcYRcEjX-3j",
        "outputId": "33f18859-be48-4d7f-a708-ad7169e687b4"
      },
      "execution_count": 18,
      "outputs": [
        {
          "output_type": "stream",
          "name": "stdout",
          "text": [
            "--- FizzBuzz ---\n",
            "1\n",
            "2\n",
            "Fizz\n",
            "4\n",
            "Buzz\n",
            "Fizz\n",
            "7\n",
            "8\n",
            "Fizz\n",
            "Buzz\n",
            "11\n",
            "Fizz\n",
            "13\n",
            "14\n",
            "FizzBuzz\n",
            "16\n",
            "17\n",
            "Fizz\n",
            "19\n",
            "Buzz\n",
            "Fizz\n",
            "22\n",
            "23\n",
            "Fizz\n",
            "Buzz\n",
            "26\n",
            "Fizz\n",
            "28\n",
            "29\n",
            "FizzBuzz\n",
            "31\n",
            "32\n",
            "Fizz\n",
            "34\n",
            "Buzz\n",
            "Fizz\n",
            "37\n",
            "38\n",
            "Fizz\n",
            "Buzz\n",
            "41\n",
            "Fizz\n",
            "43\n",
            "44\n",
            "FizzBuzz\n",
            "46\n",
            "47\n",
            "Fizz\n",
            "49\n",
            "Buzz\n",
            "Fizz\n",
            "52\n",
            "53\n",
            "Fizz\n",
            "Buzz\n",
            "56\n",
            "Fizz\n",
            "58\n",
            "59\n",
            "FizzBuzz\n",
            "61\n",
            "62\n",
            "Fizz\n",
            "64\n",
            "Buzz\n",
            "Fizz\n",
            "67\n",
            "68\n",
            "Fizz\n",
            "Buzz\n",
            "71\n",
            "Fizz\n",
            "73\n",
            "74\n",
            "FizzBuzz\n",
            "76\n",
            "77\n",
            "Fizz\n",
            "79\n",
            "Buzz\n",
            "Fizz\n",
            "82\n",
            "83\n",
            "Fizz\n",
            "Buzz\n",
            "86\n",
            "Fizz\n",
            "88\n",
            "89\n",
            "FizzBuzz\n",
            "91\n",
            "92\n",
            "Fizz\n",
            "94\n",
            "Buzz\n",
            "Fizz\n",
            "97\n",
            "98\n",
            "Fizz\n",
            "Buzz\n"
          ]
        }
      ]
    },
    {
      "cell_type": "markdown",
      "source": [
        "Problem 2: Reverse a String\n",
        "Description: Given a string, return a new string with the characters in reverse order.\n",
        "\n",
        "Concepts used: Strings, string slicing, loops (optional, but good for practice)."
      ],
      "metadata": {
        "id": "rgneRWtFYB9s"
      }
    },
    {
      "cell_type": "code",
      "source": [
        "# Solution for Reverse a String (Method 1: Slicing - the Pythonic way!)\n",
        "def reverse_string_slicing(s):\n",
        "    # This is the simplest and most Pythonic way to reverse a string using slicing.\n",
        "    return s[::-1]\n",
        "\n",
        "print(\"\\n--- Reverse a String (Slicing) ---\")\n",
        "test_string1 = \"hello\"\n",
        "print(f\"Original: '{test_string1}', Reversed: '{reverse_string_slicing(test_string1)}'\")\n",
        "\n",
        "test_string2 = \"Python\"\n",
        "print(f\"Original: '{test_string2}', Reversed: '{reverse_string_slicing(test_string2)}'\")\n",
        "\n",
        "# Solution for Reverse a String (Method 2: Using a loop)\n",
        "def reverse_string_loop(s):\n",
        "    reversed_s = \"\" # Start with an empty string\n",
        "    for char in s:\n",
        "        reversed_s = char + reversed_s # Add each character to the beginning of the new string\n",
        "    return reversed_s\n",
        "\n",
        "print(\"\\n--- Reverse a String (Loop) ---\")\n",
        "test_string3 = \"world\"\n",
        "print(f\"Original: '{test_string3}', Reversed: '{reverse_string_loop(test_string3)}'\")\n",
        "\n",
        "test_string4 = \"abcde\"\n",
        "print(f\"Original: '{test_string4}', Reversed: '{reverse_string_loop(test_string4)}'\")"
      ],
      "metadata": {
        "colab": {
          "base_uri": "https://localhost:8080/"
        },
        "id": "0dT_ZpWqYDZf",
        "outputId": "579ede08-b32d-4d2e-a995-3622a40d9ad4"
      },
      "execution_count": 19,
      "outputs": [
        {
          "output_type": "stream",
          "name": "stdout",
          "text": [
            "\n",
            "--- Reverse a String (Slicing) ---\n",
            "Original: 'hello', Reversed: 'olleh'\n",
            "Original: 'Python', Reversed: 'nohtyP'\n",
            "\n",
            "--- Reverse a String (Loop) ---\n",
            "Original: 'world', Reversed: 'dlrow'\n",
            "Original: 'abcde', Reversed: 'edcba'\n"
          ]
        }
      ]
    },
    {
      "cell_type": "markdown",
      "source": [
        "Problem 3: Count Vowels\n",
        "Description: Write a function that takes a string as input and returns the number of vowels (a, e, i, o, u, case-insensitive) in the string.\n",
        "\n",
        "Concepts used: Strings, loops, conditional statements, string methods (.lower())."
      ],
      "metadata": {
        "id": "bN_QXdohYFmv"
      }
    },
    {
      "cell_type": "code",
      "source": [
        "# Solution for Count Vowels\n",
        "def count_vowels(text):\n",
        "    vowels = \"aeiou\" # Define the vowels\n",
        "    vowel_count = 0   # Initialize a counter for vowels\n",
        "\n",
        "    # Iterate through each character in the input text\n",
        "    for char in text:\n",
        "        # Convert the character to lowercase to handle both 'A' and 'a'\n",
        "        if char.lower() in vowels: # Check if the lowercase character is in our 'vowels' string\n",
        "            vowel_count += 1 # If it's a vowel, increment the counter\n",
        "    return vowel_count\n",
        "\n",
        "print(\"\\n--- Count Vowels ---\")\n",
        "text1 = \"Hello World\"\n",
        "print(f\"'{text1}' has {count_vowels(text1)} vowels.\") # Expected: 3 (e, o, o)\n",
        "\n",
        "text2 = \"Python Programming\"\n",
        "print(f\"'{text2}' has {count_vowels(text2)} vowels.\") # Expected: 5 (o, o, a, i, o)\n",
        "\n",
        "text3 = \"AEIOU\"\n",
        "print(f\"'{text3}' has {count_vowels(text3)} vowels.\") # Expected: 5"
      ],
      "metadata": {
        "colab": {
          "base_uri": "https://localhost:8080/"
        },
        "id": "NV0WHQ8yYHDz",
        "outputId": "080de502-b830-4c70-d2fa-b7b3616879df"
      },
      "execution_count": 20,
      "outputs": [
        {
          "output_type": "stream",
          "name": "stdout",
          "text": [
            "\n",
            "--- Count Vowels ---\n",
            "'Hello World' has 3 vowels.\n",
            "'Python Programming' has 4 vowels.\n",
            "'AEIOU' has 5 vowels.\n"
          ]
        }
      ]
    },
    {
      "cell_type": "markdown",
      "source": [
        "# 🌟 Conclusion: You've Got This!\n",
        "Awesome job! You've just walked through the absolute essentials of Python programming. You now know how to:\n",
        "\n",
        "Store data using variables.\n",
        "\n",
        "Perform calculations with numbers.\n",
        "\n",
        "Work with text using strings.\n",
        "\n",
        "Make your code make decisions with if/elif/else.\n",
        "\n",
        "Repeat tasks efficiently using for and while loops.\n",
        "\n",
        "Use handy built-in functions to simplify your code.\n",
        "\n",
        "And even tackle some common coding problems!\n",
        "\n",
        "These are the building blocks for almost any program you'll ever write. Keep practicing, try to solve more problems, and don't be afraid to experiment!\n",
        "\n",
        "Next time, we'll dive into data structures, which are ways to organize collections of data, like lists and dictionaries. Get ready for more fun!"
      ],
      "metadata": {
        "id": "GGa6q_DsYK1C"
      }
    }
  ]
}